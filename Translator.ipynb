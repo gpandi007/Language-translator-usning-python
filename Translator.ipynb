{
 "cells": [
  {
   "cell_type": "code",
   "execution_count": 4,
   "metadata": {},
   "outputs": [
    {
     "name": "stdout",
     "output_type": "stream",
     "text": [
      "say.....ganesh\n",
      "கணேஷ்\n"
     ]
    }
   ],
   "source": [
    "from langdetect import detect\n",
    "from googletrans import Translator\n",
    "\n",
    "# detected_language= detect(\"hello how are you?\")\n",
    "# print(detected_language)\n",
    "sentence=str(input(\"say.....\"))\n",
    "\n",
    "detected_language= detect(sentence)\n",
    "#print(detected_language)\n",
    "\n",
    "\n",
    "translator = Translator()\n",
    "\n",
    "#Reference for IS0-639-1 codes\n",
    "#https://en.wikipedia.org/wiki/List_of_ISO_639-1_codes\n",
    "translated_sentence = translator.translate(sentence,src=detected_language,dest='ta')\n",
    "\n",
    "\n",
    "\n",
    "print(translated_sentence.text)"
   ]
  },
  {
   "cell_type": "code",
   "execution_count": null,
   "metadata": {},
   "outputs": [],
   "source": []
  }
 ],
 "metadata": {
  "kernelspec": {
   "display_name": "Python 3",
   "language": "python",
   "name": "python3"
  },
  "language_info": {
   "codemirror_mode": {
    "name": "ipython",
    "version": 3
   },
   "file_extension": ".py",
   "mimetype": "text/x-python",
   "name": "python",
   "nbconvert_exporter": "python",
   "pygments_lexer": "ipython3",
   "version": "3.7.6"
  }
 },
 "nbformat": 4,
 "nbformat_minor": 4
}
